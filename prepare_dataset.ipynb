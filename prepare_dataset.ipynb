{
 "cells": [
  {
   "cell_type": "code",
   "execution_count": 1,
   "id": "403eb4be-99a2-432c-9bdc-557548910b72",
   "metadata": {
    "execution": {
     "iopub.execute_input": "2023-09-23T06:44:02.382230Z",
     "iopub.status.busy": "2023-09-23T06:44:02.381902Z",
     "iopub.status.idle": "2023-09-23T06:44:02.476458Z",
     "shell.execute_reply": "2023-09-23T06:44:02.476004Z",
     "shell.execute_reply.started": "2023-09-23T06:44:02.382166Z"
    },
    "tags": []
   },
   "outputs": [],
   "source": [
    "import json\n",
    "import os\n",
    "import numpy as np\n",
    "import glob"
   ]
  },
  {
   "cell_type": "code",
   "execution_count": 2,
   "id": "ecd81f8d-50a5-4e5a-b26b-6bd4c6820570",
   "metadata": {
    "execution": {
     "iopub.execute_input": "2023-09-23T06:44:02.972990Z",
     "iopub.status.busy": "2023-09-23T06:44:02.972767Z",
     "iopub.status.idle": "2023-09-23T06:44:06.571185Z",
     "shell.execute_reply": "2023-09-23T06:44:06.570452Z",
     "shell.execute_reply.started": "2023-09-23T06:44:02.972977Z"
    },
    "tags": []
   },
   "outputs": [],
   "source": [
    "with open('annotations/instances_val2014.json') as f:\n",
    "    data = json.load(f)"
   ]
  },
  {
   "cell_type": "code",
   "execution_count": 3,
   "id": "015ece4c-265a-4482-adb5-92d34fb703b6",
   "metadata": {
    "execution": {
     "iopub.execute_input": "2023-09-23T06:44:09.621463Z",
     "iopub.status.busy": "2023-09-23T06:44:09.621054Z",
     "iopub.status.idle": "2023-09-23T06:44:09.649850Z",
     "shell.execute_reply": "2023-09-23T06:44:09.648792Z",
     "shell.execute_reply.started": "2023-09-23T06:44:09.621442Z"
    },
    "tags": []
   },
   "outputs": [],
   "source": [
    "images = {}\n",
    "for i in data['images']:\n",
    "    try:\n",
    "        images[i['id']] = {'name': i['file_name'], 'height': i['height'], 'width': i['width']}\n",
    "    except:\n",
    "        pass"
   ]
  },
  {
   "cell_type": "code",
   "execution_count": 18,
   "id": "85a9615d-a0a6-4332-8a5b-2684a3a5b731",
   "metadata": {
    "execution": {
     "iopub.execute_input": "2023-09-23T06:45:53.071754Z",
     "iopub.status.busy": "2023-09-23T06:45:53.071464Z",
     "iopub.status.idle": "2023-09-23T06:45:53.493347Z",
     "shell.execute_reply": "2023-09-23T06:45:53.492620Z",
     "shell.execute_reply.started": "2023-09-23T06:45:53.071731Z"
    },
    "tags": []
   },
   "outputs": [],
   "source": [
    "persons = {}\n",
    "for i in data['annotations']:\n",
    "    try:\n",
    "        if i['category_id'] == 1:\n",
    "            if i['image_id'] not in persons.keys():\n",
    "                persons[i['image_id']] = np.array(i['segmentation'][0])\n",
    "            else:\n",
    "                if type(persons[i['image_id']]) == type(np.array([])):\n",
    "                    persons[i['image_id']] = [persons[i['image_id']], np.array(i['segmentation'][0])]\n",
    "                else:\n",
    "                    persons[i['image_id']].append(np.array(i['segmentation'][0]))\n",
    "    except:\n",
    "        pass"
   ]
  },
  {
   "cell_type": "code",
   "execution_count": 19,
   "id": "50ce3ea6-aa20-4bd5-9252-5ba2dc7d778d",
   "metadata": {
    "execution": {
     "iopub.execute_input": "2023-09-23T06:45:55.218502Z",
     "iopub.status.busy": "2023-09-23T06:45:55.218160Z",
     "iopub.status.idle": "2023-09-23T06:45:58.929362Z",
     "shell.execute_reply": "2023-09-23T06:45:58.928674Z",
     "shell.execute_reply.started": "2023-09-23T06:45:55.218488Z"
    },
    "tags": []
   },
   "outputs": [],
   "source": [
    "if not os.path.exists('labels'):\n",
    "    os.mkdir('labels')\n",
    "\n",
    "for i in persons.keys():\n",
    "    with open(f\"labels/{images[i]['name'][:-4]+'.txt'}\", 'w') as f:\n",
    "        if type(persons[i]) == type([]):\n",
    "            for j in persons[i]:\n",
    "                j[::2] /= images[i]['width']\n",
    "                j[1::2] /= images[i]['height']\n",
    "                f.write('0 '+' '.join(map(lambda x: str(x), j)))\n",
    "        else:\n",
    "            persons[i][::2] /= images[i]['width']\n",
    "            persons[i][1::2] /= images[i]['height']\n",
    "            f.write('0 '+' '.join(map(lambda x: str(x), persons[i])))"
   ]
  },
  {
   "cell_type": "markdown",
   "id": "af5d603a-2e11-49e0-bfd7-e3eb95761715",
   "metadata": {},
   "source": [
    "### Delete images which not person in it"
   ]
  },
  {
   "cell_type": "code",
   "execution_count": 139,
   "id": "db0d3abe-34fa-4d83-b0a1-c4925635bbd7",
   "metadata": {
    "execution": {
     "iopub.execute_input": "2023-09-19T10:49:03.116404Z",
     "iopub.status.busy": "2023-09-19T10:49:03.115796Z",
     "iopub.status.idle": "2023-09-19T10:49:03.255219Z",
     "shell.execute_reply": "2023-09-19T10:49:03.254537Z",
     "shell.execute_reply.started": "2023-09-19T10:49:03.116377Z"
    },
    "tags": []
   },
   "outputs": [
    {
     "data": {
      "text/plain": [
       "(40504, 21634)"
      ]
     },
     "execution_count": 139,
     "metadata": {},
     "output_type": "execute_result"
    }
   ],
   "source": [
    "images = set(map(lambda x: x[16:-4],glob.glob('datasets/images/*')))\n",
    "labels = set(map(lambda x: x[16:-4],glob.glob('datasets/labels/*')))\n",
    "len(images), len(labels)"
   ]
  },
  {
   "cell_type": "code",
   "execution_count": 142,
   "id": "ca88fc10-e076-45ea-8fd4-2db56da39bdb",
   "metadata": {
    "execution": {
     "iopub.execute_input": "2023-09-19T10:51:06.494014Z",
     "iopub.status.busy": "2023-09-19T10:51:06.493698Z",
     "iopub.status.idle": "2023-09-19T10:51:06.764042Z",
     "shell.execute_reply": "2023-09-19T10:51:06.763276Z",
     "shell.execute_reply.started": "2023-09-19T10:51:06.493990Z"
    },
    "tags": []
   },
   "outputs": [],
   "source": [
    "for i in list(images-labels):\n",
    "    os.remove(f'datasets/images/{i}.jpg')"
   ]
  },
  {
   "cell_type": "code",
   "execution_count": 143,
   "id": "3a5a2a4d-9d50-4349-8768-5fa3048118d3",
   "metadata": {
    "execution": {
     "iopub.execute_input": "2023-09-19T10:51:15.020929Z",
     "iopub.status.busy": "2023-09-19T10:51:15.020619Z",
     "iopub.status.idle": "2023-09-19T10:51:15.120237Z",
     "shell.execute_reply": "2023-09-19T10:51:15.119570Z",
     "shell.execute_reply.started": "2023-09-19T10:51:15.020909Z"
    },
    "tags": []
   },
   "outputs": [
    {
     "data": {
      "text/plain": [
       "(21634, 21634)"
      ]
     },
     "execution_count": 143,
     "metadata": {},
     "output_type": "execute_result"
    }
   ],
   "source": [
    "images = set(map(lambda x: x[15:-4],glob.glob('datasets/images/*')))\n",
    "labels = set(map(lambda x: x[15:-4],glob.glob('datasets/labels/*')))\n",
    "len(images), len(labels)"
   ]
  },
  {
   "cell_type": "markdown",
   "id": "e3498332-df6e-4267-8272-ae198a1b9ac2",
   "metadata": {},
   "source": [
    "### Split dataset to train and validation"
   ]
  },
  {
   "cell_type": "code",
   "execution_count": 154,
   "id": "367d3faa-8dc2-4561-a9fb-ca601f65f952",
   "metadata": {
    "execution": {
     "iopub.execute_input": "2023-09-19T11:00:24.426679Z",
     "iopub.status.busy": "2023-09-19T11:00:24.426246Z",
     "iopub.status.idle": "2023-09-19T11:00:24.537678Z",
     "shell.execute_reply": "2023-09-19T11:00:24.537146Z",
     "shell.execute_reply.started": "2023-09-19T11:00:24.426659Z"
    },
    "tags": []
   },
   "outputs": [],
   "source": [
    "import shutil\n",
    "\n",
    "images = glob.glob('datasets/train/images/*')\n",
    "labels = glob.glob('datasets/train/labels/*')\n",
    "images.sort()\n",
    "labels.sort()"
   ]
  },
  {
   "cell_type": "code",
   "execution_count": 150,
   "id": "833de5ff-3bd5-4ffc-b984-5b6dffb4ab59",
   "metadata": {
    "execution": {
     "iopub.execute_input": "2023-09-19T10:57:08.207169Z",
     "iopub.status.busy": "2023-09-19T10:57:08.206809Z",
     "iopub.status.idle": "2023-09-19T10:57:08.210969Z",
     "shell.execute_reply": "2023-09-19T10:57:08.210543Z",
     "shell.execute_reply.started": "2023-09-19T10:57:08.207153Z"
    },
    "tags": []
   },
   "outputs": [
    {
     "data": {
      "text/plain": [
       "['datasets/train/images/COCO_val2014_000000000074.jpg',\n",
       " 'datasets/train/images/COCO_val2014_000000000136.jpg',\n",
       " 'datasets/train/images/COCO_val2014_000000000139.jpg',\n",
       " 'datasets/train/images/COCO_val2014_000000000192.jpg',\n",
       " 'datasets/train/images/COCO_val2014_000000000241.jpg',\n",
       " 'datasets/train/images/COCO_val2014_000000000257.jpg',\n",
       " 'datasets/train/images/COCO_val2014_000000000294.jpg',\n",
       " 'datasets/train/images/COCO_val2014_000000000328.jpg',\n",
       " 'datasets/train/images/COCO_val2014_000000000338.jpg',\n",
       " 'datasets/train/images/COCO_val2014_000000000357.jpg']"
      ]
     },
     "execution_count": 150,
     "metadata": {},
     "output_type": "execute_result"
    }
   ],
   "source": [
    "images[:10]"
   ]
  },
  {
   "cell_type": "code",
   "execution_count": 151,
   "id": "dab682a3-e847-4a8f-bee4-9fb5267915fe",
   "metadata": {
    "execution": {
     "iopub.execute_input": "2023-09-19T10:57:26.504114Z",
     "iopub.status.busy": "2023-09-19T10:57:26.503821Z",
     "iopub.status.idle": "2023-09-19T10:57:26.509057Z",
     "shell.execute_reply": "2023-09-19T10:57:26.508386Z",
     "shell.execute_reply.started": "2023-09-19T10:57:26.504092Z"
    },
    "tags": []
   },
   "outputs": [
    {
     "data": {
      "text/plain": [
       "['datasets/train/labels/COCO_val2014_000000000074.txt',\n",
       " 'datasets/train/labels/COCO_val2014_000000000136.txt',\n",
       " 'datasets/train/labels/COCO_val2014_000000000139.txt',\n",
       " 'datasets/train/labels/COCO_val2014_000000000192.txt',\n",
       " 'datasets/train/labels/COCO_val2014_000000000241.txt',\n",
       " 'datasets/train/labels/COCO_val2014_000000000257.txt',\n",
       " 'datasets/train/labels/COCO_val2014_000000000294.txt',\n",
       " 'datasets/train/labels/COCO_val2014_000000000328.txt',\n",
       " 'datasets/train/labels/COCO_val2014_000000000338.txt',\n",
       " 'datasets/train/labels/COCO_val2014_000000000357.txt']"
      ]
     },
     "execution_count": 151,
     "metadata": {},
     "output_type": "execute_result"
    }
   ],
   "source": [
    "labels[:10]"
   ]
  },
  {
   "cell_type": "code",
   "execution_count": 158,
   "id": "f9baef34-3c19-48bc-80fe-123b98acf491",
   "metadata": {
    "execution": {
     "iopub.execute_input": "2023-09-19T11:02:25.618985Z",
     "iopub.status.busy": "2023-09-19T11:02:25.618697Z",
     "iopub.status.idle": "2023-09-19T11:02:25.713352Z",
     "shell.execute_reply": "2023-09-19T11:02:25.712767Z",
     "shell.execute_reply.started": "2023-09-19T11:02:25.618961Z"
    },
    "tags": []
   },
   "outputs": [],
   "source": [
    "for i in range(5000):\n",
    "    os.rename(images[i], images[i].replace('train', 'val'))\n",
    "    os.rename(labels[i], labels[i].replace('train', 'val'))"
   ]
  }
 ],
 "metadata": {
  "kernelspec": {
   "display_name": "Python 3 (ipykernel)",
   "language": "python",
   "name": "python3"
  },
  "language_info": {
   "codemirror_mode": {
    "name": "ipython",
    "version": 3
   },
   "file_extension": ".py",
   "mimetype": "text/x-python",
   "name": "python",
   "nbconvert_exporter": "python",
   "pygments_lexer": "ipython3",
   "version": "3.9.12"
  }
 },
 "nbformat": 4,
 "nbformat_minor": 5
}
